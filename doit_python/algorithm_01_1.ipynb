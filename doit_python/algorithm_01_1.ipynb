{
 "cells": [
  {
   "cell_type": "code",
   "execution_count": 1,
   "metadata": {},
   "outputs": [
    {
     "name": "stdout",
     "output_type": "stream",
     "text": [
      "세 정수의 최댓값을 구합니다.\n",
      "최댓값은 4 입니다.\n"
     ]
    }
   ],
   "source": [
    "#세 정수를 입력받아 최댓값 구하기\r\n",
    "\r\n",
    "print('세 정수의 최댓값을 구합니다.')\r\n",
    "\r\n",
    "a = int(input('정수 a의 값을 입력하시오: '))\r\n",
    "b = int(input('정수 b의 값을 입력하시오: '))\r\n",
    "c = int(input('정수 c의 값을 입력하시오: '))\r\n",
    "\r\n",
    "maximum = a\r\n",
    "if b > maximum: maximum = b\r\n",
    "if c > maximum: maximum = c\r\n",
    "\r\n",
    "print(f'최댓값은 {maximum} 입니다.')\r\n",
    "\r\n"
   ]
  },
  {
   "cell_type": "code",
   "execution_count": 2,
   "metadata": {},
   "outputs": [
    {
     "name": "stdout",
     "output_type": "stream",
     "text": [
      "4\n"
     ]
    }
   ],
   "source": [
    "# 세 정수를 입력받아 출력하는 함수 만들기\r\n",
    "\r\n",
    "def max3(a, b, c):\r\n",
    "\r\n",
    "    \"\"\"a, b, c 의 최댓값을 반환\"\"\"\r\n",
    "    maximum = a\r\n",
    "    if b > maximum: maximum = b\r\n",
    "    if c > maximum: maximum = c\r\n",
    "\r\n",
    "    return maximum\r\n",
    "\r\n",
    "print(max3(2, 3, 4))"
   ]
  },
  {
   "cell_type": "markdown",
   "metadata": {},
   "source": [
    "* 알고리즘 : 어떤 문제를 해결하기 위한 절차, 같은 실행 결과 출력"
   ]
  },
  {
   "cell_type": "code",
   "execution_count": 3,
   "metadata": {},
   "outputs": [
    {
     "name": "stdout",
     "output_type": "stream",
     "text": [
      "4\n"
     ]
    }
   ],
   "source": [
    "# 세 정수를 입력받아 중앙값 구하기1\r\n",
    "\r\n",
    "def med3(a, b, c):\r\n",
    "\r\n",
    "    \"\"\"a, b, c의 중앙값을 구하여 반환\"\"\"\r\n",
    "    if a >= b:\r\n",
    "        if b > c:\r\n",
    "            return b\r\n",
    "        elif a <= c:\r\n",
    "            return a\r\n",
    "        else:\r\n",
    "            return c\r\n",
    "    elif a > c:\r\n",
    "        return a\r\n",
    "    elif b > c:\r\n",
    "        return c\r\n",
    "    else :\r\n",
    "        return b\r\n",
    "\r\n",
    "print(med3(2, 4, 5))"
   ]
  },
  {
   "cell_type": "code",
   "execution_count": null,
   "metadata": {},
   "outputs": [],
   "source": []
  }
 ],
 "metadata": {
  "kernelspec": {
   "display_name": "Python 3.8.8 64-bit",
   "metadata": {
    "interpreter": {
     "hash": "38c4ff1e20f7b5a997130590fee7cb9983305c7352dd662ac6170962b2c48506"
    }
   },
   "name": "python3"
  },
  "language_info": {
   "codemirror_mode": {
    "name": "ipython",
    "version": 3
   },
   "file_extension": ".py",
   "mimetype": "text/x-python",
   "name": "python",
   "nbconvert_exporter": "python",
   "pygments_lexer": "ipython3",
   "version": "3.8.8"
  },
  "orig_nbformat": 2
 },
 "nbformat": 4,
 "nbformat_minor": 2
}